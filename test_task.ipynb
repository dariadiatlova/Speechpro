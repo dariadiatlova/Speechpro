{
  "nbformat": 4,
  "nbformat_minor": 0,
  "metadata": {
    "colab": {
      "name": "Diatlova_speechpro_test_task.ipynb",
      "provenance": []
    },
    "kernelspec": {
      "name": "python3",
      "display_name": "Python 3"
    }
  },
  "cells": [
    {
      "cell_type": "markdown",
      "metadata": {
        "id": "lVMvV49toKGg"
      },
      "source": [
        "## Тестовое задание: распределенные методы обучения\n",
        "### Дарья Дятлова, студентка 5 курса ВШЭ"
      ]
    },
    {
      "cell_type": "code",
      "metadata": {
        "id": "7twEORVmqqQA"
      },
      "source": [
        "from typing import NoReturn, List\n",
        "import numpy as np\n",
        "import scipy.linalg\n",
        "from numpy.linalg import det, norm, inv\n",
        "import multiprocessing\n",
        "import concurrent.futures\n",
        "from itertools import repeat\n",
        "from functools import partial\n",
        "import matplotlib.pyplot as plt\n",
        "import time"
      ],
      "execution_count": 80,
      "outputs": []
    },
    {
      "cell_type": "code",
      "metadata": {
        "id": "pP-LfCn2D0bC"
      },
      "source": [
        "def print_matrix(A: np.ndarray) -> NoReturn:\n",
        "    for row in A.astype(int):\n",
        "        for x in row:\n",
        "            print(f\"{x:<4d}\", end=\" \")\n",
        "        print()\n",
        "\n",
        "def make_matrix(n):\n",
        "  A = np.eye(n)\n",
        "  b = np.random.rand(n)\n",
        "  return A, b"
      ],
      "execution_count": 63,
      "outputs": []
    },
    {
      "cell_type": "markdown",
      "metadata": {
        "id": "gXYyJD5qozng"
      },
      "source": [
        "## Задание 1\n",
        "Дана матрица $A \\in R^{n x n}$ и вектор $b \\in R^n$. Известно, что матрица $A$ имеет диагональное преобладание. Найти такие $B \\in R^{nxn}$ и $q \\in R^n$, что последовательность\n",
        "$x_{k+1} = Bx_k + q$ сходится к единственному решение системы $Ax^* = b$\n",
        "\n",
        "\n",
        "---\n",
        "\n"
      ]
    },
    {
      "cell_type": "markdown",
      "metadata": {
        "id": "J2fTJcDarpGC"
      },
      "source": [
        "Решение с помощью метода Якоби с условием строгого диагонального преобладания:\n",
        "\n",
        "> Представим матрицу $A = B + D$, где $D$ – диагональная матрица.\n",
        "\n",
        "> Тогда решение системы $Ax = b$ можно записать в следующем виде: $Dx + Bx = b$, откуда $x = D^{-1}b - D^{-1}Bx$.\n",
        "\n",
        "\n",
        "> Решим систему с помощью итерационного метода: $x^{k+1} = Bx_k + q$, где $q = D^{-1}b$.\n",
        "\n",
        "\n",
        "> Критерий остановки: $\\frac{||b - Ax_i||}{||b||} \\leq tol$\n",
        "\n",
        "\n",
        "\n",
        "\n",
        "\n",
        "\n",
        "\n",
        "\n",
        "\n",
        "\n",
        "\n",
        "\n",
        "\n",
        "\n",
        "\n",
        "\n",
        "\n"
      ]
    },
    {
      "cell_type": "code",
      "metadata": {
        "id": "l6IwFL2crnpG"
      },
      "source": [
        "def jacobi(A: np.ndarray, b: np.ndarray, max_iter=1000, tol=1e-8) -> np.ndarray:\n",
        "\n",
        "    \"\"\"\n",
        "    Parametrs\n",
        "    ---------\n",
        "    A: np.ndarray\n",
        "        Матрица решаемой СЛАУ\n",
        "    b: np.ndarray\n",
        "        Вектор свободных членов СЛАУ\n",
        "    max_iter: int\n",
        "        Максимальное число итераций метода\n",
        "    tol: Точность решения\n",
        "    return: np.ndarray\n",
        "        x: приближенное решение СЛАУ Ax = b\n",
        "    \"\"\"\n",
        "\n",
        "    D = np.diag(np.diagonal(A))\n",
        "    B = A - D\n",
        "    assert [np.diagonal(A)[i] >= np.sum(B[i]) for i in range(len(b))],(\n",
        "         'Matrix A is not diagonally dominant')\n",
        "    x0 = np.random.rand(A.shape[0])\n",
        "    x = np.array(x0, dtype=np.float128)\n",
        "    D_inv = np.diag(1 / np.diagonal(A))\n",
        "    b_norm = norm(b)\n",
        "    q = D_inv @ b\n",
        "    for i in range(max_iter):\n",
        "      if norm(b - A @ x) / b_norm <= tol:\n",
        "        return x\n",
        "      else:\n",
        "        x = B @ x + q"
      ],
      "execution_count": null,
      "outputs": []
    },
    {
      "cell_type": "markdown",
      "metadata": {
        "id": "LzxIL6ZTDzP6"
      },
      "source": [
        "Напишем функцию для проверки корректности решения реализованной нами функцией со встроенной функцией для решения СЛАУ библиотеки Scipy:"
      ]
    },
    {
      "cell_type": "code",
      "metadata": {
        "colab": {
          "base_uri": "https://localhost:8080/"
        },
        "id": "5HdiqONTZiQD",
        "outputId": "22aa6b48-b6f5-430a-d961-fc9b7731f067"
      },
      "source": [
        "A = np.eye(20)\n",
        "b = np.random.rand(20)\n",
        "def test1(A: np.ndarray, b: np.ndarray):\n",
        "  if np.isclose(scipy.linalg.solve(A, b), jacobi(A, b), rtol=1e-8).all():\n",
        "    print('Correct!')\n",
        "  else:\n",
        "    print('Something went wrong')\n",
        "test1(A,b)"
      ],
      "execution_count": null,
      "outputs": [
        {
          "output_type": "stream",
          "text": [
            "Correct!\n"
          ],
          "name": "stdout"
        }
      ]
    },
    {
      "cell_type": "markdown",
      "metadata": {
        "id": "K1nEgAYkv5tO"
      },
      "source": [
        "# Задание 2\n",
        "Дана последовательность $x_{k+1} = Bx_k$:\n",
        "\n",
        "\n",
        "*   При каких условиях $x_k$ сходится? \n",
        "*   Приведите пример $B$, когда все компоненты $x_k$ одинаковы.\n",
        "---\n",
        "\n",
        "*   Для сходимости $x_k$ достаточно, чтобы: $||B|| \\leq 1$\n",
        "*   Матрица $B$ у которой все $b_{ii}, i=1...N$ равны, например, единичная матрица.\n",
        "\n",
        "\n",
        "\n"
      ]
    },
    {
      "cell_type": "code",
      "metadata": {
        "colab": {
          "base_uri": "https://localhost:8080/"
        },
        "id": "SK_c5UNZq_av",
        "outputId": "ea839e1f-9091-4a80-c016-91112a197e0c"
      },
      "source": [
        "A = make_matrix(5)[0]\n",
        "print_matrix(A)"
      ],
      "execution_count": 65,
      "outputs": [
        {
          "output_type": "stream",
          "text": [
            "1    0    0    0    0    \n",
            "0    1    0    0    0    \n",
            "0    0    1    0    0    \n",
            "0    0    0    1    0    \n",
            "0    0    0    0    1    \n"
          ],
          "name": "stdout"
        }
      ]
    },
    {
      "cell_type": "markdown",
      "metadata": {
        "id": "38XxwW34azsZ"
      },
      "source": [
        "# Задание 3\n",
        "Реулизуйте параллельное умнажение матрицы на вектор.\n",
        "---\n",
        "Создадим класс Multiplication с 3 методами для вычисления результата умножения матрицы A на вектор b:\n",
        "- Наивное решение – умножение матрицы на вектор посредством итеративного умножения строк матрицы на вектор; суммирование результата произведем с помощью встроенной в Python функции sum.\n",
        "- Распараллеливание умножения – произведем его с помощью модуля concurrent.futures.ProcessPoolExecutor. Отдельный процесс будет выполнять умножение вектора на вектор.\n",
        "- Умножение матрицы A на вектор b с помощью встроенной функции матричного умножения Numpy.\n"
      ]
    },
    {
      "cell_type": "code",
      "metadata": {
        "id": "HjL_moBG9H0L"
      },
      "source": [
        "class Multiplication:\n",
        "  def __init__(self, A: np.ndarray, b: np.ndarray, strategy: str):\n",
        "    \"\"\"\n",
        "    Parametrs\n",
        "    ---------\n",
        "    A: np.ndarray\n",
        "        Матрица \n",
        "    b: np.ndarray\n",
        "        Вектор \n",
        "    strategy: str\n",
        "        Метод с помощью которого будет производиться \n",
        "        операция умножения матрицы A на вектор b.\n",
        "    return: np.ndarray\n",
        "        x: Результат умножения матрицы на вектор\n",
        "        t2 - t1: Время затраченное на операцию умножения\n",
        "    \"\"\"\n",
        "    self.A = A\n",
        "    self.b = b\n",
        "    self.n = A.shape[0]\n",
        "    self.strategy = strategy\n",
        "\n",
        "\n",
        "  def vanilla_python_multiplication(self) -> list:\n",
        "    A, b = list(self.A), list(self.b)\n",
        "    x = [0] * self.n\n",
        "    for a in A:\n",
        "      for i in range(self.n):\n",
        "        x[i] = sum([a[i] * b[i] for i in range(self.n)])\n",
        "    return x\n",
        "\n",
        "  \n",
        "  def vector_multiplication(self, a: list) -> list:\n",
        "    b = list(self.b)\n",
        "    return sum([a[i] * b[i] for i in range(self.n)])\n",
        "\n",
        "\n",
        "  def numpy_multiplication(self) -> np.ndarray:\n",
        "    x = self.A @ self.b\n",
        "    return x\n",
        "\n",
        "\n",
        "  def concurrent_python_multiplication(self) -> np.ndarray:\n",
        "    A = list(self.A)\n",
        "    args = list([a for a in A])\n",
        "    with concurrent.futures.ProcessPoolExecutor() as executor:\n",
        "      results = executor.map(self.vector_multiplication, args)\n",
        "    x = list([res for res in results])\n",
        "    return x\n",
        "\n",
        "\n",
        "  def main(self):\n",
        "    assert len(A) == len(b), \\\n",
        "    \"Product of A and b can not be calculated... check the dimensions!\"\n",
        "    t1 = time.perf_counter()\n",
        "    x = getattr(self, self.strategy)()\n",
        "    t2 = time.perf_counter()\n",
        "    print(f'Strategy: {self.strategy}, Finished in {t2 - t1} seconds')\n",
        "    return x, t2 - t1\n"
      ],
      "execution_count": 74,
      "outputs": []
    },
    {
      "cell_type": "markdown",
      "metadata": {
        "id": "GQctzJtyGVDt"
      },
      "source": [
        "Протестируем написанные вручную функции, сравнив результат вычисления со встроенной функцией Numpy:  "
      ]
    },
    {
      "cell_type": "code",
      "metadata": {
        "id": "O57GvPC5_3po",
        "colab": {
          "base_uri": "https://localhost:8080/"
        },
        "outputId": "ac637ebd-f1a8-4dd0-9c7b-5f6ab72f2911"
      },
      "source": [
        "def test1(A: np.ndarray, b: np.ndarray):\n",
        "  M1 = Multiplication(A=A, b=b, strategy='numpy_multiplication')\n",
        "  M2 = Multiplication(A=A, b=b, strategy='vanilla_python_multiplication')\n",
        "  if np.isclose(M1.main()[0], M2.main()[0], rtol=1e-8).all():\n",
        "    print('Correct!')\n",
        "\n",
        "def test2(A: np.ndarray, b: np.ndarray):\n",
        "  M1 = Multiplication(A=A, b=b, strategy='numpy_multiplication')\n",
        "  M2 = Multiplication(A=A, b=b, strategy='concurrent_python_multiplication')\n",
        "  if np.isclose(M1.main()[0], M2.main()[0], rtol=1e-8).all():\n",
        "    print('Correct!')\n",
        "\n",
        "A, b = make_matrix(5)\n",
        "test1(A, b)\n",
        "test2(A, b)"
      ],
      "execution_count": 75,
      "outputs": [
        {
          "output_type": "stream",
          "text": [
            "Strategy: numpy_multiplication, Finished in 2.962100006698165e-05 seconds\n",
            "Strategy: vanilla_python_multiplication, Finished in 0.00012035100007778965 seconds\n",
            "Strategy: numpy_multiplication, Finished in 6.730000677634962e-06 seconds\n",
            "Strategy: concurrent_python_multiplication, Finished in 0.024403710000115098 seconds\n",
            "Correct!\n"
          ],
          "name": "stdout"
        }
      ]
    },
    {
      "cell_type": "markdown",
      "metadata": {
        "id": "v6pNUmG8Jf82"
      },
      "source": [
        "Построим график, чтобы сравнить время затричиваемое на умножение матрицы на вектор для матриц разных размерностей на всех 3 методах реализованного класса:"
      ]
    },
    {
      "cell_type": "code",
      "metadata": {
        "id": "m-B17pFkcPdw",
        "colab": {
          "base_uri": "https://localhost:8080/",
          "height": 404
        },
        "outputId": "8945b871-3fd4-43e6-e72e-4b5a93375b5f"
      },
      "source": [
        "def plot():\n",
        "  numbers = np.linspace(2, 300, 10, dtype=int)\n",
        "  plot_data = [[], [], []]\n",
        "  for n in numbers:\n",
        "    A, b = make_matrix(n)\n",
        "    M1 = Multiplication(A=A, b=b, strategy='numpy_multiplication')\n",
        "    plot_data[0].append(M1.main()[1])\n",
        "    M2 = Multiplication(A=A, b=b, strategy='naive_multiplication')\n",
        "    plot_data[1].append(M2.main()[1])\n",
        "    M3 = Multiplication(A=A, b=b, strategy='parallel_multiplication')\n",
        "    plot_data[2].append(M3.main()[1])\n",
        "  plt.figure(figsize=(10,6))\n",
        "  plt.grid(True)\n",
        "  plt.plot(numbers, plot_data[0], c='skyblue', label='Numpy')\n",
        "  plt.plot(numbers, plot_data[1], c='red', label='Vanilla Python')\n",
        "  plt.plot(numbers, plot_data[2], c='green', label='Concurrent Python')\n",
        "  plt.xlabel('matrix size')\n",
        "  plt.ylabel('time, sec')\n",
        "  plt.legend(loc='upper left', shadow=True)\n",
        "  plt.title('Product of matrix and vector in Python')\n",
        "  plt.show()\n",
        "\n",
        "plot()"
      ],
      "execution_count": 64,
      "outputs": [
        {
          "output_type": "display_data",
          "data": {
            "image/png": "[encoded data removed]",
            "text/plain": [
              "<Figure size 720x432 with 1 Axes>"
            ]
          },
          "metadata": {
            "tags": [],
            "needs_background": "light"
          }
        }
      ]
    },
    {
      "cell_type": "markdown",
      "metadata": {
        "id": "n8dX684BLDue"
      },
      "source": [
        "На графике видно, что пока размерность матрицы не превышает 50, разница во времени, затрачиваемом на умножения матрицы на вектор, практически не заметна. При небольших размерностях наше наивное работает даже быстрее решения, реализованного с помощью распаралеливания умножения. Это может быть связано с тем, что при распараллеливании умножения время затрачиваемое на создание процессов может быть значительно более дорогой операцией чем само умножение. Однако на больших размерностях видим, что для наивного решения время растет экспоненциально, в то время как решение с помощью метода распараллеливания процессов показыает результаты близкие к результам вычисления встроенной функции матричного умножения библиотеки Numpy."
      ]
    },
    {
      "cell_type": "code",
      "metadata": {
        "id": "meWhstYgQ9Do"
      },
      "source": [
        ""
      ],
      "execution_count": null,
      "outputs": []
    }
  ]
}